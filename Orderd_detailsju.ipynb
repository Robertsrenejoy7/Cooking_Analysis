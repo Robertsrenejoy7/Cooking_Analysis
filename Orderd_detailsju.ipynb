{
 "cells": [
  {
   "cell_type": "code",
   "execution_count": 2,
   "id": "eada0a29-2f71-47c8-b854-0c16eeeba7cc",
   "metadata": {},
   "outputs": [],
   "source": [
    "import pandas as pd"
   ]
  },
  {
   "cell_type": "code",
   "execution_count": 10,
   "id": "df112be1-3e07-40fd-abb6-27fd73e9b59a",
   "metadata": {},
   "outputs": [],
   "source": [
    "df = pd.read_csv(\"C:\\\\Users\\\\Maggy\\\\OneDrive\\\\Desktop\\\\orderdetails..csv\")"
   ]
  },
  {
   "cell_type": "code",
   "execution_count": 12,
   "id": "19964b0a-5161-4238-bc62-fd7f14714bf1",
   "metadata": {},
   "outputs": [
    {
     "data": {
      "text/html": [
       "<div>\n",
       "<style scoped>\n",
       "    .dataframe tbody tr th:only-of-type {\n",
       "        vertical-align: middle;\n",
       "    }\n",
       "\n",
       "    .dataframe tbody tr th {\n",
       "        vertical-align: top;\n",
       "    }\n",
       "\n",
       "    .dataframe thead th {\n",
       "        text-align: right;\n",
       "    }\n",
       "</style>\n",
       "<table border=\"1\" class=\"dataframe\">\n",
       "  <thead>\n",
       "    <tr style=\"text-align: right;\">\n",
       "      <th></th>\n",
       "      <th>Order ID</th>\n",
       "      <th>User ID</th>\n",
       "      <th>Order Date</th>\n",
       "      <th>Meal Type</th>\n",
       "      <th>Dish Name</th>\n",
       "      <th>Order Status</th>\n",
       "      <th>Amount (USD)</th>\n",
       "      <th>Time of Day</th>\n",
       "      <th>Rating</th>\n",
       "      <th>Session ID</th>\n",
       "    </tr>\n",
       "  </thead>\n",
       "  <tbody>\n",
       "    <tr>\n",
       "      <th>0</th>\n",
       "      <td>1001</td>\n",
       "      <td>U001</td>\n",
       "      <td>2024-12-01</td>\n",
       "      <td>Dinner</td>\n",
       "      <td>Spaghetti</td>\n",
       "      <td>Completed</td>\n",
       "      <td>15.0</td>\n",
       "      <td>Night</td>\n",
       "      <td>5.0</td>\n",
       "      <td>S001</td>\n",
       "    </tr>\n",
       "    <tr>\n",
       "      <th>1</th>\n",
       "      <td>1002</td>\n",
       "      <td>U002</td>\n",
       "      <td>2024-12-01</td>\n",
       "      <td>Lunch</td>\n",
       "      <td>Caesar Salad</td>\n",
       "      <td>Completed</td>\n",
       "      <td>10.0</td>\n",
       "      <td>Day</td>\n",
       "      <td>4.0</td>\n",
       "      <td>S002</td>\n",
       "    </tr>\n",
       "    <tr>\n",
       "      <th>2</th>\n",
       "      <td>1003</td>\n",
       "      <td>U003</td>\n",
       "      <td>2024-12-02</td>\n",
       "      <td>Dinner</td>\n",
       "      <td>Grilled Chicken</td>\n",
       "      <td>Canceled</td>\n",
       "      <td>12.5</td>\n",
       "      <td>Night</td>\n",
       "      <td>NaN</td>\n",
       "      <td>S003</td>\n",
       "    </tr>\n",
       "    <tr>\n",
       "      <th>3</th>\n",
       "      <td>1004</td>\n",
       "      <td>U001</td>\n",
       "      <td>2024-12-02</td>\n",
       "      <td>Breakfast</td>\n",
       "      <td>Pancakes</td>\n",
       "      <td>Completed</td>\n",
       "      <td>8.0</td>\n",
       "      <td>Morning</td>\n",
       "      <td>4.0</td>\n",
       "      <td>S004</td>\n",
       "    </tr>\n",
       "    <tr>\n",
       "      <th>4</th>\n",
       "      <td>1005</td>\n",
       "      <td>U004</td>\n",
       "      <td>2024-12-03</td>\n",
       "      <td>Lunch</td>\n",
       "      <td>Caesar Salad</td>\n",
       "      <td>Completed</td>\n",
       "      <td>9.0</td>\n",
       "      <td>Day</td>\n",
       "      <td>4.0</td>\n",
       "      <td>S005</td>\n",
       "    </tr>\n",
       "    <tr>\n",
       "      <th>5</th>\n",
       "      <td>1006</td>\n",
       "      <td>U002</td>\n",
       "      <td>2024-12-03</td>\n",
       "      <td>Dinner</td>\n",
       "      <td>Spaghetti</td>\n",
       "      <td>Completed</td>\n",
       "      <td>14.0</td>\n",
       "      <td>Night</td>\n",
       "      <td>4.0</td>\n",
       "      <td>S006</td>\n",
       "    </tr>\n",
       "    <tr>\n",
       "      <th>6</th>\n",
       "      <td>1007</td>\n",
       "      <td>U005</td>\n",
       "      <td>2024-12-04</td>\n",
       "      <td>Dinner</td>\n",
       "      <td>Grilled Chicken</td>\n",
       "      <td>Completed</td>\n",
       "      <td>13.5</td>\n",
       "      <td>Night</td>\n",
       "      <td>4.0</td>\n",
       "      <td>S007</td>\n",
       "    </tr>\n",
       "    <tr>\n",
       "      <th>7</th>\n",
       "      <td>1008</td>\n",
       "      <td>U003</td>\n",
       "      <td>2024-12-04</td>\n",
       "      <td>Lunch</td>\n",
       "      <td>Veggie Burger</td>\n",
       "      <td>Canceled</td>\n",
       "      <td>11.0</td>\n",
       "      <td>Day</td>\n",
       "      <td>NaN</td>\n",
       "      <td>S008</td>\n",
       "    </tr>\n",
       "    <tr>\n",
       "      <th>8</th>\n",
       "      <td>1009</td>\n",
       "      <td>U001</td>\n",
       "      <td>2024-12-05</td>\n",
       "      <td>Dinner</td>\n",
       "      <td>Grilled Chicken</td>\n",
       "      <td>Completed</td>\n",
       "      <td>12.0</td>\n",
       "      <td>Night</td>\n",
       "      <td>5.0</td>\n",
       "      <td>S009</td>\n",
       "    </tr>\n",
       "    <tr>\n",
       "      <th>9</th>\n",
       "      <td>1010</td>\n",
       "      <td>U002</td>\n",
       "      <td>2024-12-05</td>\n",
       "      <td>Breakfast</td>\n",
       "      <td>Oatmeal</td>\n",
       "      <td>Completed</td>\n",
       "      <td>7.0</td>\n",
       "      <td>Morning</td>\n",
       "      <td>4.0</td>\n",
       "      <td>S010</td>\n",
       "    </tr>\n",
       "    <tr>\n",
       "      <th>10</th>\n",
       "      <td>1011</td>\n",
       "      <td>U003</td>\n",
       "      <td>2024-12-06</td>\n",
       "      <td>Breakfast</td>\n",
       "      <td>Pancakes</td>\n",
       "      <td>Completed</td>\n",
       "      <td>8.5</td>\n",
       "      <td>Morning</td>\n",
       "      <td>4.0</td>\n",
       "      <td>S011</td>\n",
       "    </tr>\n",
       "    <tr>\n",
       "      <th>11</th>\n",
       "      <td>1012</td>\n",
       "      <td>U004</td>\n",
       "      <td>2024-12-06</td>\n",
       "      <td>Dinner</td>\n",
       "      <td>Spaghetti</td>\n",
       "      <td>Completed</td>\n",
       "      <td>12.5</td>\n",
       "      <td>Night</td>\n",
       "      <td>4.0</td>\n",
       "      <td>S012</td>\n",
       "    </tr>\n",
       "    <tr>\n",
       "      <th>12</th>\n",
       "      <td>1013</td>\n",
       "      <td>U005</td>\n",
       "      <td>2024-12-07</td>\n",
       "      <td>Lunch</td>\n",
       "      <td>Caesar Salad</td>\n",
       "      <td>Completed</td>\n",
       "      <td>9.0</td>\n",
       "      <td>Day</td>\n",
       "      <td>4.0</td>\n",
       "      <td>S013</td>\n",
       "    </tr>\n",
       "    <tr>\n",
       "      <th>13</th>\n",
       "      <td>1014</td>\n",
       "      <td>U006</td>\n",
       "      <td>2024-12-07</td>\n",
       "      <td>Dinner</td>\n",
       "      <td>Grilled Chicken</td>\n",
       "      <td>Completed</td>\n",
       "      <td>13.0</td>\n",
       "      <td>Night</td>\n",
       "      <td>5.0</td>\n",
       "      <td>S014</td>\n",
       "    </tr>\n",
       "    <tr>\n",
       "      <th>14</th>\n",
       "      <td>1015</td>\n",
       "      <td>U007</td>\n",
       "      <td>2024-12-08</td>\n",
       "      <td>Dinner</td>\n",
       "      <td>Spaghetti</td>\n",
       "      <td>Completed</td>\n",
       "      <td>14.0</td>\n",
       "      <td>Night</td>\n",
       "      <td>5.0</td>\n",
       "      <td>S015</td>\n",
       "    </tr>\n",
       "    <tr>\n",
       "      <th>15</th>\n",
       "      <td>1016</td>\n",
       "      <td>U008</td>\n",
       "      <td>2024-12-08</td>\n",
       "      <td>Lunch</td>\n",
       "      <td>Veggie Burger</td>\n",
       "      <td>Completed</td>\n",
       "      <td>11.0</td>\n",
       "      <td>Day</td>\n",
       "      <td>4.0</td>\n",
       "      <td>S016</td>\n",
       "    </tr>\n",
       "  </tbody>\n",
       "</table>\n",
       "</div>"
      ],
      "text/plain": [
       "    Order ID User ID  Order Date  Meal Type        Dish Name Order Status  \\\n",
       "0       1001    U001  2024-12-01     Dinner        Spaghetti    Completed   \n",
       "1       1002    U002  2024-12-01      Lunch     Caesar Salad    Completed   \n",
       "2       1003    U003  2024-12-02     Dinner  Grilled Chicken     Canceled   \n",
       "3       1004    U001  2024-12-02  Breakfast         Pancakes    Completed   \n",
       "4       1005    U004  2024-12-03      Lunch     Caesar Salad    Completed   \n",
       "5       1006    U002  2024-12-03     Dinner        Spaghetti    Completed   \n",
       "6       1007    U005  2024-12-04     Dinner  Grilled Chicken    Completed   \n",
       "7       1008    U003  2024-12-04      Lunch    Veggie Burger     Canceled   \n",
       "8       1009    U001  2024-12-05     Dinner  Grilled Chicken    Completed   \n",
       "9       1010    U002  2024-12-05  Breakfast          Oatmeal    Completed   \n",
       "10      1011    U003  2024-12-06  Breakfast         Pancakes    Completed   \n",
       "11      1012    U004  2024-12-06     Dinner        Spaghetti    Completed   \n",
       "12      1013    U005  2024-12-07      Lunch     Caesar Salad    Completed   \n",
       "13      1014    U006  2024-12-07     Dinner  Grilled Chicken    Completed   \n",
       "14      1015    U007  2024-12-08     Dinner        Spaghetti    Completed   \n",
       "15      1016    U008  2024-12-08      Lunch    Veggie Burger    Completed   \n",
       "\n",
       "    Amount (USD) Time of Day  Rating Session ID  \n",
       "0           15.0       Night     5.0       S001  \n",
       "1           10.0         Day     4.0       S002  \n",
       "2           12.5       Night     NaN       S003  \n",
       "3            8.0     Morning     4.0       S004  \n",
       "4            9.0         Day     4.0       S005  \n",
       "5           14.0       Night     4.0       S006  \n",
       "6           13.5       Night     4.0       S007  \n",
       "7           11.0         Day     NaN       S008  \n",
       "8           12.0       Night     5.0       S009  \n",
       "9            7.0     Morning     4.0       S010  \n",
       "10           8.5     Morning     4.0       S011  \n",
       "11          12.5       Night     4.0       S012  \n",
       "12           9.0         Day     4.0       S013  \n",
       "13          13.0       Night     5.0       S014  \n",
       "14          14.0       Night     5.0       S015  \n",
       "15          11.0         Day     4.0       S016  "
      ]
     },
     "execution_count": 12,
     "metadata": {},
     "output_type": "execute_result"
    }
   ],
   "source": [
    "df"
   ]
  },
  {
   "cell_type": "code",
   "execution_count": 14,
   "id": "8b8d1c6d-96b7-4a30-905b-86061ad75cee",
   "metadata": {},
   "outputs": [
    {
     "name": "stdout",
     "output_type": "stream",
     "text": [
      "Initial Data: \n"
     ]
    }
   ],
   "source": [
    "print(\"Initial Data: \")"
   ]
  },
  {
   "cell_type": "code",
   "execution_count": 16,
   "id": "1aaf0b5d-7cac-4f00-a657-f375452a1115",
   "metadata": {},
   "outputs": [
    {
     "name": "stdout",
     "output_type": "stream",
     "text": [
      "Missing Values:\n",
      "Order ID        0\n",
      "User ID         0\n",
      "Order Date      0\n",
      "Meal Type       0\n",
      "Dish Name       0\n",
      "Order Status    0\n",
      "Amount (USD)    0\n",
      "Time of Day     0\n",
      "Rating          2\n",
      "Session ID      0\n",
      "dtype: int64\n"
     ]
    }
   ],
   "source": [
    "print(\"Missing Values:\")\n",
    "print(df.isnull().sum())"
   ]
  },
  {
   "cell_type": "code",
   "execution_count": 18,
   "id": "b8d2596a-1704-44cd-90d7-e85b1642b447",
   "metadata": {},
   "outputs": [
    {
     "name": "stdout",
     "output_type": "stream",
     "text": [
      "   Order ID User ID  Order Date  Meal Type        Dish Name Order Status  \\\n",
      "0      1001    U001  2024-12-01     Dinner        Spaghetti    Completed   \n",
      "1      1002    U002  2024-12-01      Lunch     Caesar Salad    Completed   \n",
      "2      1003    U003  2024-12-02     Dinner  Grilled Chicken     Canceled   \n",
      "3      1004    U001  2024-12-02  Breakfast         Pancakes    Completed   \n",
      "4      1005    U004  2024-12-03      Lunch     Caesar Salad    Completed   \n",
      "\n",
      "   Amount (USD) Time of Day  Rating Session ID  \n",
      "0          15.0       Night     5.0       S001  \n",
      "1          10.0         Day     4.0       S002  \n",
      "2          12.5       Night     NaN       S003  \n",
      "3           8.0     Morning     4.0       S004  \n",
      "4           9.0         Day     4.0       S005  \n",
      "Order ID        0\n",
      "User ID         0\n",
      "Order Date      0\n",
      "Meal Type       0\n",
      "Dish Name       0\n",
      "Order Status    0\n",
      "Amount (USD)    0\n",
      "Time of Day     0\n",
      "Rating          2\n",
      "Session ID      0\n",
      "dtype: int64\n",
      "<class 'pandas.core.frame.DataFrame'>\n",
      "RangeIndex: 16 entries, 0 to 15\n",
      "Data columns (total 10 columns):\n",
      " #   Column        Non-Null Count  Dtype  \n",
      "---  ------        --------------  -----  \n",
      " 0   Order ID      16 non-null     int64  \n",
      " 1   User ID       16 non-null     object \n",
      " 2   Order Date    16 non-null     object \n",
      " 3   Meal Type     16 non-null     object \n",
      " 4   Dish Name     16 non-null     object \n",
      " 5   Order Status  16 non-null     object \n",
      " 6   Amount (USD)  16 non-null     float64\n",
      " 7   Time of Day   16 non-null     object \n",
      " 8   Rating        14 non-null     float64\n",
      " 9   Session ID    16 non-null     object \n",
      "dtypes: float64(2), int64(1), object(7)\n",
      "memory usage: 1.4+ KB\n",
      "None\n"
     ]
    }
   ],
   "source": [
    "print(df.head())\n",
    "\n",
    "# Check for missing values\n",
    "print(df.isnull().sum())\n",
    "\n",
    "# Get data types and basic information\n",
    "print(df.info())"
   ]
  },
  {
   "cell_type": "code",
   "execution_count": 20,
   "id": "1d8e9dc9-ee64-4596-9736-75d834c807f5",
   "metadata": {},
   "outputs": [],
   "source": [
    "df['Rating'] = df['Rating'].fillna(0)  # Replace NaN ratings with 0\n",
    "df.dropna(subset=['User ID', 'Order ID'], inplace=True)  # Drop rows with critical missing data"
   ]
  },
  {
   "cell_type": "code",
   "execution_count": 22,
   "id": "7c080bf5-5342-40d9-8852-3f4e2bb8c522",
   "metadata": {},
   "outputs": [],
   "source": [
    "df.drop_duplicates(inplace=True)"
   ]
  },
  {
   "cell_type": "code",
   "execution_count": 24,
   "id": "37ccd5fe-447e-44b9-b8b8-dd8f6d065b45",
   "metadata": {},
   "outputs": [],
   "source": [
    "df.columns = df.columns.str.strip().str.lower().str.replace(' ', '_')"
   ]
  },
  {
   "cell_type": "code",
   "execution_count": 26,
   "id": "52faeb9e-a8be-4abc-adfd-3792c868e8b0",
   "metadata": {},
   "outputs": [
    {
     "name": "stdout",
     "output_type": "stream",
     "text": [
      "dish_name\n",
      "Spaghetti          4\n",
      "Grilled Chicken    4\n",
      "Caesar Salad       3\n",
      "Pancakes           2\n",
      "Veggie Burger      2\n",
      "Oatmeal            1\n",
      "Name: count, dtype: int64\n"
     ]
    }
   ],
   "source": [
    "popular_dishes = df['dish_name'].value_counts()\n",
    "print(popular_dishes.head(10))  # Top 10 popular dishes"
   ]
  },
  {
   "cell_type": "code",
   "execution_count": 28,
   "id": "9cc88a05-5d0e-40f5-a4c6-9395018c14aa",
   "metadata": {},
   "outputs": [
    {
     "name": "stdout",
     "output_type": "stream",
     "text": [
      "session_id\n",
      "S001    1\n",
      "S002    1\n",
      "S003    1\n",
      "S004    1\n",
      "S005    1\n",
      "S006    1\n",
      "S007    1\n",
      "S008    1\n",
      "S009    1\n",
      "S010    1\n",
      "S011    1\n",
      "S012    1\n",
      "S013    1\n",
      "S014    1\n",
      "S015    1\n",
      "S016    1\n",
      "Name: order_id, dtype: int64\n"
     ]
    }
   ],
   "source": [
    "session_orders = df.groupby('session_id')['order_id'].count()\n",
    "print(session_orders)"
   ]
  },
  {
   "cell_type": "code",
   "execution_count": 30,
   "id": "6a7a2dda-1830-47d2-9193-a72df876c910",
   "metadata": {},
   "outputs": [
    {
     "name": "stdout",
     "output_type": "stream",
     "text": [
      "dish_name\n",
      "Spaghetti          55.5\n",
      "Grilled Chicken    51.0\n",
      "Caesar Salad       28.0\n",
      "Veggie Burger      22.0\n",
      "Pancakes           16.5\n",
      "Oatmeal             7.0\n",
      "Name: amount_(usd), dtype: float64\n"
     ]
    }
   ],
   "source": [
    "revenue_by_dish = df.groupby('dish_name')['amount_(usd)'].sum()\n",
    "print(revenue_by_dish.sort_values(ascending=False).head(10))  # Top 10 dishes by revenue"
   ]
  },
  {
   "cell_type": "code",
   "execution_count": 32,
   "id": "f55611ce-fb3d-4619-a4eb-09c178d6b042",
   "metadata": {},
   "outputs": [
    {
     "data": {
      "image/png": "[encoded data removed]",
      "text/plain": [
       "<Figure size 640x480 with 1 Axes>"
      ]
     },
     "metadata": {},
     "output_type": "display_data"
    }
   ],
   "source": [
    "import matplotlib.pyplot as plt\n",
    "\n",
    "popular_dishes.head(10).plot(kind='bar', color='skyblue')\n",
    "plt.title('Top 10 Popular Dishes')\n",
    "plt.xlabel('Dish Name')\n",
    "plt.ylabel('Number of Orders')\n",
    "plt.xticks(rotation=45)\n",
    "plt.show()"
   ]
  },
  {
   "cell_type": "code",
   "execution_count": 38,
   "id": "0309f0ac-c536-4c1e-92ed-5d184fc0feb5",
   "metadata": {},
   "outputs": [
    {
     "data": {
      "image/png": "[encoded data removed]",
      "text/plain": [
       "<Figure size 640x480 with 1 Axes>"
      ]
     },
     "metadata": {},
     "output_type": "display_data"
    }
   ],
   "source": [
    "import seaborn as sns\n",
    "\n",
    "sns.histplot(df['amount_(usd)'], kde=True, color='green')\n",
    "plt.title('Revenue Distribution')\n",
    "plt.xlabel('Order Amount (USD)')\n",
    "plt.show()"
   ]
  },
  {
   "cell_type": "code",
   "execution_count": 40,
   "id": "4093699c-4b62-4372-ad6d-1694cd2afd3f",
   "metadata": {},
   "outputs": [
    {
     "name": "stdout",
     "output_type": "stream",
     "text": [
      "0\n"
     ]
    }
   ],
   "source": [
    "print(df.duplicated().sum())  # Should return 0"
   ]
  },
  {
   "cell_type": "code",
   "execution_count": 42,
   "id": "e727abf6-7c05-4140-84de-ca3223e0a5c0",
   "metadata": {},
   "outputs": [
    {
     "name": "stdout",
     "output_type": "stream",
     "text": [
      "order_id        0\n",
      "user_id         0\n",
      "order_date      0\n",
      "meal_type       0\n",
      "dish_name       0\n",
      "order_status    0\n",
      "amount_(usd)    0\n",
      "time_of_day     0\n",
      "rating          0\n",
      "session_id      0\n",
      "dtype: int64\n",
      "<class 'pandas.core.frame.DataFrame'>\n",
      "RangeIndex: 16 entries, 0 to 15\n",
      "Data columns (total 10 columns):\n",
      " #   Column        Non-Null Count  Dtype  \n",
      "---  ------        --------------  -----  \n",
      " 0   order_id      16 non-null     int64  \n",
      " 1   user_id       16 non-null     object \n",
      " 2   order_date    16 non-null     object \n",
      " 3   meal_type     16 non-null     object \n",
      " 4   dish_name     16 non-null     object \n",
      " 5   order_status  16 non-null     object \n",
      " 6   amount_(usd)  16 non-null     float64\n",
      " 7   time_of_day   16 non-null     object \n",
      " 8   rating        16 non-null     float64\n",
      " 9   session_id    16 non-null     object \n",
      "dtypes: float64(2), int64(1), object(7)\n",
      "memory usage: 1.4+ KB\n",
      "None\n",
      "Empty DataFrame\n",
      "Columns: [order_id, user_id, order_date, meal_type, dish_name, order_status, amount_(usd), time_of_day, rating, session_id]\n",
      "Index: []\n",
      "Index(['order_id', 'user_id', 'order_date', 'meal_type', 'dish_name',\n",
      "       'order_status', 'amount_(usd)', 'time_of_day', 'rating', 'session_id'],\n",
      "      dtype='object')\n",
      "8\n",
      "16\n"
     ]
    }
   ],
   "source": [
    "print(df.isnull().sum())  # Should show no critical missing valuesprint(df.head())  # Check that merged columns are included\n",
    "print(df.info())  # Ensure all necessary fields are present\n",
    "print(df[df.isnull().any(axis=1)])  # Check rows with null values\n",
    "print(df.columns)  # Check column names\n",
    "print(df['user_id'].nunique())  # Ensure all users are included\n",
    "print(df['session_id'].nunique())  # Ensure sessions are merged"
   ]
  },
  {
   "cell_type": "code",
   "execution_count": 44,
   "id": "9641b036-b65f-4d9e-9315-d4c36daa6565",
   "metadata": {},
   "outputs": [],
   "source": [
    "# Save the cleaned and merged data to a CSV file\n",
    "df.to_excel(\"cleaned_merged_data.xlsx\", index=False)"
   ]
  },
  {
   "cell_type": "code",
   "execution_count": 46,
   "id": "4a8e761d-b18d-48c9-8155-6fa391af1ea9",
   "metadata": {},
   "outputs": [],
   "source": [
    "# Save the cleaned and merged data to a CSV file\n",
    "df.to_excel(\"C:\\\\Users\\\\Maggy\\\\OneDrive\\\\Desktop\\\\cleaned_merged_data.xlsx\")"
   ]
  },
  {
   "cell_type": "code",
   "execution_count": null,
   "id": "c97141d5-3f5a-4137-bf7e-74f8454432d3",
   "metadata": {},
   "outputs": [],
   "source": []
  }
 ],
 "metadata": {
  "kernelspec": {
   "display_name": "Python 3 (ipykernel)",
   "language": "python",
   "name": "python3"
  },
  "language_info": {
   "codemirror_mode": {
    "name": "ipython",
    "version": 3
   },
   "file_extension": ".py",
   "mimetype": "text/x-python",
   "name": "python",
   "nbconvert_exporter": "python",
   "pygments_lexer": "ipython3",
   "version": "3.12.7"
  }
 },
 "nbformat": 4,
 "nbformat_minor": 5
}
